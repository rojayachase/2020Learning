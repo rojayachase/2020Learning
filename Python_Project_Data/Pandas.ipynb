{
 "cells": [
  {
   "cell_type": "code",
   "execution_count": 12,
   "metadata": {},
   "outputs": [],
   "source": [
    "import pandas as pd"
   ]
  },
  {
   "cell_type": "code",
   "execution_count": 13,
   "metadata": {},
   "outputs": [],
   "source": [
    "df = pd.read_csv('data.csv') # read csv file"
   ]
  },
  {
   "cell_type": "code",
   "execution_count": 14,
   "metadata": {},
   "outputs": [
    {
     "data": {
      "text/html": [
       "<div>\n",
       "<style scoped>\n",
       "    .dataframe tbody tr th:only-of-type {\n",
       "        vertical-align: middle;\n",
       "    }\n",
       "\n",
       "    .dataframe tbody tr th {\n",
       "        vertical-align: top;\n",
       "    }\n",
       "\n",
       "    .dataframe thead th {\n",
       "        text-align: right;\n",
       "    }\n",
       "</style>\n",
       "<table border=\"1\" class=\"dataframe\">\n",
       "  <thead>\n",
       "    <tr style=\"text-align: right;\">\n",
       "      <th></th>\n",
       "      <th>Time</th>\n",
       "      <th>ACCX</th>\n",
       "      <th>ACCY</th>\n",
       "      <th>ACCZ</th>\n",
       "      <th>GYRX</th>\n",
       "      <th>GYRY</th>\n",
       "      <th>GYRZ</th>\n",
       "    </tr>\n",
       "  </thead>\n",
       "  <tbody>\n",
       "    <tr>\n",
       "      <th>0</th>\n",
       "      <td>0.000</td>\n",
       "      <td>0.00</td>\n",
       "      <td>-1.50</td>\n",
       "      <td>0.75</td>\n",
       "      <td>47</td>\n",
       "      <td>-47</td>\n",
       "      <td>-16</td>\n",
       "    </tr>\n",
       "    <tr>\n",
       "      <th>1</th>\n",
       "      <td>0.002</td>\n",
       "      <td>0.00</td>\n",
       "      <td>-1.50</td>\n",
       "      <td>0.75</td>\n",
       "      <td>31</td>\n",
       "      <td>-47</td>\n",
       "      <td>-31</td>\n",
       "    </tr>\n",
       "    <tr>\n",
       "      <th>2</th>\n",
       "      <td>0.004</td>\n",
       "      <td>0.00</td>\n",
       "      <td>-1.50</td>\n",
       "      <td>0.75</td>\n",
       "      <td>31</td>\n",
       "      <td>-47</td>\n",
       "      <td>-31</td>\n",
       "    </tr>\n",
       "    <tr>\n",
       "      <th>3</th>\n",
       "      <td>0.006</td>\n",
       "      <td>0.12</td>\n",
       "      <td>-1.38</td>\n",
       "      <td>0.75</td>\n",
       "      <td>16</td>\n",
       "      <td>-31</td>\n",
       "      <td>-31</td>\n",
       "    </tr>\n",
       "    <tr>\n",
       "      <th>4</th>\n",
       "      <td>0.008</td>\n",
       "      <td>0.12</td>\n",
       "      <td>-1.38</td>\n",
       "      <td>0.75</td>\n",
       "      <td>16</td>\n",
       "      <td>-31</td>\n",
       "      <td>-31</td>\n",
       "    </tr>\n",
       "    <tr>\n",
       "      <th>...</th>\n",
       "      <td>...</td>\n",
       "      <td>...</td>\n",
       "      <td>...</td>\n",
       "      <td>...</td>\n",
       "      <td>...</td>\n",
       "      <td>...</td>\n",
       "      <td>...</td>\n",
       "    </tr>\n",
       "    <tr>\n",
       "      <th>3115</th>\n",
       "      <td>49.932</td>\n",
       "      <td>0.25</td>\n",
       "      <td>-1.25</td>\n",
       "      <td>1.12</td>\n",
       "      <td>63</td>\n",
       "      <td>-78</td>\n",
       "      <td>78</td>\n",
       "    </tr>\n",
       "    <tr>\n",
       "      <th>3116</th>\n",
       "      <td>49.934</td>\n",
       "      <td>0.12</td>\n",
       "      <td>-1.12</td>\n",
       "      <td>1.12</td>\n",
       "      <td>47</td>\n",
       "      <td>-63</td>\n",
       "      <td>78</td>\n",
       "    </tr>\n",
       "    <tr>\n",
       "      <th>3117</th>\n",
       "      <td>49.936</td>\n",
       "      <td>0.00</td>\n",
       "      <td>-1.00</td>\n",
       "      <td>1.00</td>\n",
       "      <td>31</td>\n",
       "      <td>-47</td>\n",
       "      <td>78</td>\n",
       "    </tr>\n",
       "    <tr>\n",
       "      <th>3118</th>\n",
       "      <td>49.938</td>\n",
       "      <td>-0.12</td>\n",
       "      <td>-1.00</td>\n",
       "      <td>0.88</td>\n",
       "      <td>31</td>\n",
       "      <td>-47</td>\n",
       "      <td>94</td>\n",
       "    </tr>\n",
       "    <tr>\n",
       "      <th>3119</th>\n",
       "      <td>49.940</td>\n",
       "      <td>-0.25</td>\n",
       "      <td>-0.88</td>\n",
       "      <td>0.88</td>\n",
       "      <td>16</td>\n",
       "      <td>-31</td>\n",
       "      <td>94</td>\n",
       "    </tr>\n",
       "  </tbody>\n",
       "</table>\n",
       "<p>3120 rows × 7 columns</p>\n",
       "</div>"
      ],
      "text/plain": [
       "        Time  ACCX  ACCY  ACCZ  GYRX  GYRY  GYRZ\n",
       "0      0.000  0.00 -1.50  0.75    47   -47   -16\n",
       "1      0.002  0.00 -1.50  0.75    31   -47   -31\n",
       "2      0.004  0.00 -1.50  0.75    31   -47   -31\n",
       "3      0.006  0.12 -1.38  0.75    16   -31   -31\n",
       "4      0.008  0.12 -1.38  0.75    16   -31   -31\n",
       "...      ...   ...   ...   ...   ...   ...   ...\n",
       "3115  49.932  0.25 -1.25  1.12    63   -78    78\n",
       "3116  49.934  0.12 -1.12  1.12    47   -63    78\n",
       "3117  49.936  0.00 -1.00  1.00    31   -47    78\n",
       "3118  49.938 -0.12 -1.00  0.88    31   -47    94\n",
       "3119  49.940 -0.25 -0.88  0.88    16   -31    94\n",
       "\n",
       "[3120 rows x 7 columns]"
      ]
     },
     "execution_count": 14,
     "metadata": {},
     "output_type": "execute_result"
    }
   ],
   "source": [
    "df #show rows and columns"
   ]
  },
  {
   "cell_type": "code",
   "execution_count": 15,
   "metadata": {},
   "outputs": [
    {
     "data": {
      "text/plain": [
       "(3120, 7)"
      ]
     },
     "execution_count": 15,
     "metadata": {},
     "output_type": "execute_result"
    }
   ],
   "source": [
    "df.shape"
   ]
  },
  {
   "cell_type": "code",
   "execution_count": 16,
   "metadata": {
    "scrolled": false
   },
   "outputs": [
    {
     "data": {
      "text/html": [
       "<div>\n",
       "<style scoped>\n",
       "    .dataframe tbody tr th:only-of-type {\n",
       "        vertical-align: middle;\n",
       "    }\n",
       "\n",
       "    .dataframe tbody tr th {\n",
       "        vertical-align: top;\n",
       "    }\n",
       "\n",
       "    .dataframe thead th {\n",
       "        text-align: right;\n",
       "    }\n",
       "</style>\n",
       "<table border=\"1\" class=\"dataframe\">\n",
       "  <thead>\n",
       "    <tr style=\"text-align: right;\">\n",
       "      <th></th>\n",
       "      <th>Time</th>\n",
       "      <th>ACCX</th>\n",
       "      <th>ACCY</th>\n",
       "      <th>ACCZ</th>\n",
       "      <th>GYRX</th>\n",
       "      <th>GYRY</th>\n",
       "      <th>GYRZ</th>\n",
       "    </tr>\n",
       "  </thead>\n",
       "  <tbody>\n",
       "    <tr>\n",
       "      <th>0</th>\n",
       "      <td>0.000</td>\n",
       "      <td>0.00</td>\n",
       "      <td>-1.50</td>\n",
       "      <td>0.75</td>\n",
       "      <td>47</td>\n",
       "      <td>-47</td>\n",
       "      <td>-16</td>\n",
       "    </tr>\n",
       "    <tr>\n",
       "      <th>1</th>\n",
       "      <td>0.002</td>\n",
       "      <td>0.00</td>\n",
       "      <td>-1.50</td>\n",
       "      <td>0.75</td>\n",
       "      <td>31</td>\n",
       "      <td>-47</td>\n",
       "      <td>-31</td>\n",
       "    </tr>\n",
       "    <tr>\n",
       "      <th>2</th>\n",
       "      <td>0.004</td>\n",
       "      <td>0.00</td>\n",
       "      <td>-1.50</td>\n",
       "      <td>0.75</td>\n",
       "      <td>31</td>\n",
       "      <td>-47</td>\n",
       "      <td>-31</td>\n",
       "    </tr>\n",
       "    <tr>\n",
       "      <th>3</th>\n",
       "      <td>0.006</td>\n",
       "      <td>0.12</td>\n",
       "      <td>-1.38</td>\n",
       "      <td>0.75</td>\n",
       "      <td>16</td>\n",
       "      <td>-31</td>\n",
       "      <td>-31</td>\n",
       "    </tr>\n",
       "    <tr>\n",
       "      <th>4</th>\n",
       "      <td>0.008</td>\n",
       "      <td>0.12</td>\n",
       "      <td>-1.38</td>\n",
       "      <td>0.75</td>\n",
       "      <td>16</td>\n",
       "      <td>-31</td>\n",
       "      <td>-31</td>\n",
       "    </tr>\n",
       "  </tbody>\n",
       "</table>\n",
       "</div>"
      ],
      "text/plain": [
       "    Time  ACCX  ACCY  ACCZ  GYRX  GYRY  GYRZ\n",
       "0  0.000  0.00 -1.50  0.75    47   -47   -16\n",
       "1  0.002  0.00 -1.50  0.75    31   -47   -31\n",
       "2  0.004  0.00 -1.50  0.75    31   -47   -31\n",
       "3  0.006  0.12 -1.38  0.75    16   -31   -31\n",
       "4  0.008  0.12 -1.38  0.75    16   -31   -31"
      ]
     },
     "execution_count": 16,
     "metadata": {},
     "output_type": "execute_result"
    }
   ],
   "source": [
    "df.head(5) #show the first 5 rows"
   ]
  },
  {
   "cell_type": "code",
   "execution_count": 17,
   "metadata": {},
   "outputs": [
    {
     "name": "stdout",
     "output_type": "stream",
     "text": [
      "2371\n"
     ]
    }
   ],
   "source": [
    "User1LeftTurn = df.ACCX[df.ACCX > 0].count() #number of times the head turns left (positive number x value)\n",
    "print(User1LeftTurn)\n"
   ]
  },
  {
   "cell_type": "code",
   "execution_count": 18,
   "metadata": {},
   "outputs": [
    {
     "name": "stdout",
     "output_type": "stream",
     "text": [
      "658\n"
     ]
    }
   ],
   "source": [
    "User1RightTurn = df.ACCX[df.ACCX < 0].count() #number of times the head turns right (negative number x value)\n",
    "print(User1RightTurn)"
   ]
  },
  {
   "cell_type": "code",
   "execution_count": 20,
   "metadata": {},
   "outputs": [
    {
     "data": {
      "text/plain": [
       "count    3120.000000\n",
       "mean        0.776109\n",
       "std         2.163942\n",
       "min       -12.880000\n",
       "25%         0.120000\n",
       "50%         0.750000\n",
       "75%         1.500000\n",
       "max        15.880000\n",
       "Name: ACCX, dtype: float64"
      ]
     },
     "execution_count": 20,
     "metadata": {},
     "output_type": "execute_result"
    }
   ],
   "source": [
    "df['ACCX'].describe() #Descriptive statistics of X axis LEFT To RIGHT"
   ]
  },
  {
   "cell_type": "code",
   "execution_count": 19,
   "metadata": {
    "scrolled": true
   },
   "outputs": [
    {
     "name": "stdout",
     "output_type": "stream",
     "text": [
      "1848\n"
     ]
    }
   ],
   "source": [
    "User1HeadUp = df.ACCY[df.ACCY < 0].count() #number of times the head goes up (negative number y axis)\n",
    "print(User1HeadUp)"
   ]
  },
  {
   "cell_type": "code",
   "execution_count": 21,
   "metadata": {},
   "outputs": [
    {
     "data": {
      "text/plain": [
       "count    3120.000000\n",
       "mean       -0.274596\n",
       "std         1.713502\n",
       "min       -14.380000\n",
       "25%        -0.880000\n",
       "50%        -0.250000\n",
       "75%         0.380000\n",
       "max         9.880000\n",
       "Name: ACCY, dtype: float64"
      ]
     },
     "execution_count": 21,
     "metadata": {},
     "output_type": "execute_result"
    }
   ],
   "source": [
    "df['ACCY'].describe() #Descriptive statistics of Y axis UP To DOWN"
   ]
  },
  {
   "cell_type": "code",
   "execution_count": 22,
   "metadata": {},
   "outputs": [
    {
     "data": {
      "text/plain": [
       "count    3120.000000\n",
       "mean        0.232516\n",
       "std         1.935888\n",
       "min       -16.000000\n",
       "25%        -0.250000\n",
       "50%         0.380000\n",
       "75%         1.000000\n",
       "max        15.880000\n",
       "Name: ACCZ, dtype: float64"
      ]
     },
     "execution_count": 22,
     "metadata": {},
     "output_type": "execute_result"
    }
   ],
   "source": [
    "df['ACCZ'].describe() #Descriptive statistics of the Z axis FORWARD To BACK"
   ]
  },
  {
   "cell_type": "code",
   "execution_count": 24,
   "metadata": {},
   "outputs": [
    {
     "name": "stdout",
     "output_type": "stream",
     "text": [
      "1001\n"
     ]
    }
   ],
   "source": [
    "User1HeadBackward = df.ACCZ[df.ACCZ < 0].count() #number of the times the head goes backwards\n",
    "print(User1HeadBackward)"
   ]
  },
  {
   "cell_type": "code",
   "execution_count": null,
   "metadata": {},
   "outputs": [],
   "source": []
  }
 ],
 "metadata": {
  "kernelspec": {
   "display_name": "Python 3",
   "language": "python",
   "name": "python3"
  },
  "language_info": {
   "codemirror_mode": {
    "name": "ipython",
    "version": 3
   },
   "file_extension": ".py",
   "mimetype": "text/x-python",
   "name": "python",
   "nbconvert_exporter": "python",
   "pygments_lexer": "ipython3",
   "version": "3.8.3"
  }
 },
 "nbformat": 4,
 "nbformat_minor": 4
}
